{
 "cells": [
  {
   "cell_type": "markdown",
   "metadata": {},
   "source": [
    "# When seq2seq?\n",
    "- Many-to-many:\n",
    "    - Aligned\n",
    "    - Not aligned\n",
    "    - Karpathy rnn blog ref\n",
    "- Tasks:\n",
    "    - MT\n",
    "    - LM--> NLM with n1gram (LM vs. NLM blog)\n",
    "    - Spell"
   ]
  },
  {
   "cell_type": "markdown",
   "metadata": {},
   "source": [
    "# Why seq2seq?\n",
    "- Alternatives\n",
    "- CTC: Not aligned GT\n",
    "    - Speech\n",
    "    - OCR"
   ]
  },
  {
   "cell_type": "markdown",
   "metadata": {},
   "source": [
    "# What is seq2seq?\n",
    "- Recurrent model\n",
    "## Teacher forcing\n",
    "## Decoding\n",
    "## Attention\n",
    "- State based (Bahdanau)\n",
    "- Output based\n",
    "-- Own\n",
    "-- Fastai"
   ]
  },
  {
   "cell_type": "markdown",
   "metadata": {},
   "source": [
    "# Seq2seq for MT"
   ]
  },
  {
   "cell_type": "markdown",
   "metadata": {},
   "source": [
    "# Seq2seq for LM\n",
    "## Word level\n",
    "## Char level\n"
   ]
  },
  {
   "cell_type": "markdown",
   "metadata": {},
   "source": [
    "# Seq2seq for Spelling correction\n",
    "- Importance of mask zero in Embedding, even if char\n",
    "- OOV issue with inputs with mistakes--> input has to be char level\n",
    "- Halucination issue with char level--> output has to be word level\n",
    "- Hierarichal model"
   ]
  },
  {
   "cell_type": "markdown",
   "metadata": {},
   "source": [
    "# HATT"
   ]
  },
  {
   "cell_type": "markdown",
   "metadata": {},
   "source": [
    "# READ\n",
    "## When?\n",
    "- Hierarichy + OOV\n",
    "- Parse tree--> RAE --> Selective attention in encoder\n",
    "## Why?\n",
    "- Hirarichay + parsing order --> hierarichal semantics\n",
    "\n",
    "## Pre-train encoder as LM\n",
    "- n1gram\n",
    "- nmgram\n",
    "\n",
    "## READ Senti"
   ]
  },
  {
   "cell_type": "markdown",
   "metadata": {},
   "source": [
    "# Attention is all you need\n",
    "Sequence learning with Transformer instead of recurrence (Attention is all you need)"
   ]
  },
  {
   "cell_type": "code",
   "execution_count": null,
   "metadata": {},
   "outputs": [],
   "source": []
  },
  {
   "cell_type": "code",
   "execution_count": null,
   "metadata": {},
   "outputs": [],
   "source": []
  },
  {
   "cell_type": "code",
   "execution_count": null,
   "metadata": {},
   "outputs": [],
   "source": []
  },
  {
   "cell_type": "code",
   "execution_count": null,
   "metadata": {},
   "outputs": [],
   "source": []
  },
  {
   "cell_type": "code",
   "execution_count": null,
   "metadata": {},
   "outputs": [],
   "source": []
  },
  {
   "cell_type": "code",
   "execution_count": null,
   "metadata": {},
   "outputs": [],
   "source": []
  },
  {
   "cell_type": "code",
   "execution_count": null,
   "metadata": {},
   "outputs": [],
   "source": []
  }
 ],
 "metadata": {
  "kernelspec": {
   "display_name": "Python 3",
   "language": "python",
   "name": "python3"
  },
  "language_info": {
   "codemirror_mode": {
    "name": "ipython",
    "version": 3
   },
   "file_extension": ".py",
   "mimetype": "text/x-python",
   "name": "python",
   "nbconvert_exporter": "python",
   "pygments_lexer": "ipython3",
   "version": "3.6.4"
  }
 },
 "nbformat": 4,
 "nbformat_minor": 2
}
